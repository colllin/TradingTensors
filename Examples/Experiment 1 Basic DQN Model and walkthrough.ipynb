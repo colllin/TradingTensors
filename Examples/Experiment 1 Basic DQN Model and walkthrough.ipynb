{
 "cells": [
  {
   "cell_type": "code",
   "execution_count": 1,
   "metadata": {},
   "outputs": [
    {
     "name": "stderr",
     "output_type": "stream",
     "text": [
      "c:\\users\\sakiyama\\appdata\\local\\programs\\python\\python35\\lib\\site-packages\\matplotlib\\cbook.py:136: MatplotlibDeprecationWarning: The finance module has been deprecated in mpl 2.0 and will be removed in mpl 2.2. Please use the module mpl_finance instead.\n",
      "  warnings.warn(message, mplDeprecation, stacklevel=1)\n"
     ]
    }
   ],
   "source": [
    "'''\n",
    "First, define the environment. In this example, we are only using price data to initialize our state space\n",
    "'''\n",
    "from tradingtensors.Environments.CustomEnvs import OandaEnv\n",
    "\n",
    "env = OandaEnv(\n",
    "    INSTRUMENT = \"USD_JPY\", \n",
    "    granularity = \"M15\", \n",
    "    lookback_period= 3, #Using the previous 3 Hourly Return, Default= '(Open-LastOpen)/LastOpen'\n",
    "    trade_duration=3 #Hold every trades for 3 hours\n",
    ")"
   ]
  },
  {
   "cell_type": "code",
   "execution_count": 2,
   "metadata": {},
   "outputs": [
    {
     "data": {
      "text/plain": [
       "'And the agent is ready for training'"
      ]
     },
     "execution_count": 2,
     "metadata": {},
     "output_type": "execute_result"
    }
   ],
   "source": [
    "'''\n",
    "The Learning Agent -> DQN\n",
    "\n",
    "Adjust hyperparameters and other model settings:\n",
    "-> ./settings/DQNsettings\n",
    "'''\n",
    "\n",
    "from tradingtensors.Agents.Q_learning import DQNAgent\n",
    "\n",
    "PATH = r'C:\\pleiades\\xampp\\htdocs\\TradingTensors\\data'\n",
    "\n",
    "agent = DQNAgent(\n",
    "    env= env,\n",
    "    directory = PATH, #Path to save your models\n",
    ")\n",
    "\n",
    "'''And the agent is ready for training'''"
   ]
  },
  {
   "cell_type": "markdown",
   "metadata": {},
   "source": [
    "# Train/Test Mode"
   ]
  },
  {
   "cell_type": "markdown",
   "metadata": {},
   "source": [
    "<img src='./images/AgentEnv.JPG'/>"
   ]
  },
  {
   "cell_type": "code",
   "execution_count": 3,
   "metadata": {
    "scrolled": false
   },
   "outputs": [
    {
     "name": "stdout",
     "output_type": "stream",
     "text": [
      "End of Episode 1, Total Reward is -44.2, Average Reward is -0.508\n",
      "Percentage of time spent on exploring (Random Action): 50 %\n"
     ]
    },
    {
     "ename": "IndexError",
     "evalue": "index 22 is out of bounds for axis 0 with size 3",
     "output_type": "error",
     "traceback": [
      "\u001b[1;31m---------------------------------------------------------------------------\u001b[0m",
      "\u001b[1;31mIndexError\u001b[0m                                Traceback (most recent call last)",
      "\u001b[1;32m<ipython-input-3-4067f1fbd4c7>\u001b[0m in \u001b[0;36m<module>\u001b[1;34m()\u001b[0m\n\u001b[0;32m      9\u001b[0m     \u001b[0mCONVERGENCE_THRESHOLD\u001b[0m \u001b[1;33m=\u001b[0m \u001b[1;36m500\u001b[0m\u001b[1;33m,\u001b[0m\u001b[1;33m\u001b[0m\u001b[0m\n\u001b[0;32m     10\u001b[0m     \u001b[0mEPISODES_TO_EXPLORE\u001b[0m \u001b[1;33m=\u001b[0m \u001b[1;36m2\u001b[0m\u001b[1;33m,\u001b[0m\u001b[1;33m\u001b[0m\u001b[0m\n\u001b[1;32m---> 11\u001b[1;33m     \u001b[0mtrain_episodes\u001b[0m \u001b[1;33m=\u001b[0m \u001b[1;36m5\u001b[0m\u001b[1;33m\u001b[0m\u001b[0m\n\u001b[0m\u001b[0;32m     12\u001b[0m )\n",
      "\u001b[1;32mc:\\pleiades\\xampp\\htdocs\\tradingtensors\\tradingtensors\\Agents\\Q_learning.py\u001b[0m in \u001b[0;36mtrain\u001b[1;34m(self, policy_measure, batch_size, CONVERGENCE_THRESHOLD, EPISODES_TO_EXPLORE, train_episodes)\u001b[0m\n\u001b[0;32m    131\u001b[0m                             \u001b[0mreplaybuffer\u001b[0m\u001b[1;33m,\u001b[0m\u001b[1;33m\u001b[0m\u001b[0m\n\u001b[0;32m    132\u001b[0m                             \u001b[0mbatch_size\u001b[0m\u001b[1;33m,\u001b[0m\u001b[1;33m\u001b[0m\u001b[0m\n\u001b[1;32m--> 133\u001b[1;33m                             \u001b[0mGAMMA\u001b[0m\u001b[1;33m\u001b[0m\u001b[0m\n\u001b[0m\u001b[0;32m    134\u001b[0m                         )\n\u001b[0;32m    135\u001b[0m \u001b[1;33m\u001b[0m\u001b[0m\n",
      "\u001b[1;32mc:\\pleiades\\xampp\\htdocs\\tradingtensors\\tradingtensors\\Agents\\BaseQ.py\u001b[0m in \u001b[0;36mmini_batch_training\u001b[1;34m(session, env, online, target, replaybuff, batch_size, discount)\u001b[0m\n\u001b[0;32m     83\u001b[0m \u001b[1;33m\u001b[0m\u001b[0m\n\u001b[0;32m     84\u001b[0m     \u001b[1;31m#Select Q_values indexed by pred_actions\u001b[0m\u001b[1;33m\u001b[0m\u001b[1;33m\u001b[0m\u001b[0m\n\u001b[1;32m---> 85\u001b[1;33m     \u001b[0mQ_prime\u001b[0m \u001b[1;33m=\u001b[0m \u001b[1;33m[\u001b[0m\u001b[0mnext_Q\u001b[0m\u001b[1;33m[\u001b[0m\u001b[0mi\u001b[0m\u001b[1;33m]\u001b[0m\u001b[1;33m[\u001b[0m\u001b[0ma\u001b[0m\u001b[1;33m]\u001b[0m \u001b[1;32mfor\u001b[0m \u001b[0mi\u001b[0m\u001b[1;33m,\u001b[0m \u001b[0ma\u001b[0m \u001b[1;32min\u001b[0m \u001b[0menumerate\u001b[0m\u001b[1;33m(\u001b[0m\u001b[0mnext_action\u001b[0m\u001b[1;33m)\u001b[0m\u001b[1;33m]\u001b[0m\u001b[1;33m\u001b[0m\u001b[0m\n\u001b[0m\u001b[0;32m     86\u001b[0m \u001b[1;33m\u001b[0m\u001b[0m\n\u001b[0;32m     87\u001b[0m \u001b[1;33m\u001b[0m\u001b[0m\n",
      "\u001b[1;32mc:\\pleiades\\xampp\\htdocs\\tradingtensors\\tradingtensors\\Agents\\BaseQ.py\u001b[0m in \u001b[0;36m<listcomp>\u001b[1;34m(.0)\u001b[0m\n\u001b[0;32m     83\u001b[0m \u001b[1;33m\u001b[0m\u001b[0m\n\u001b[0;32m     84\u001b[0m     \u001b[1;31m#Select Q_values indexed by pred_actions\u001b[0m\u001b[1;33m\u001b[0m\u001b[1;33m\u001b[0m\u001b[0m\n\u001b[1;32m---> 85\u001b[1;33m     \u001b[0mQ_prime\u001b[0m \u001b[1;33m=\u001b[0m \u001b[1;33m[\u001b[0m\u001b[0mnext_Q\u001b[0m\u001b[1;33m[\u001b[0m\u001b[0mi\u001b[0m\u001b[1;33m]\u001b[0m\u001b[1;33m[\u001b[0m\u001b[0ma\u001b[0m\u001b[1;33m]\u001b[0m \u001b[1;32mfor\u001b[0m \u001b[0mi\u001b[0m\u001b[1;33m,\u001b[0m \u001b[0ma\u001b[0m \u001b[1;32min\u001b[0m \u001b[0menumerate\u001b[0m\u001b[1;33m(\u001b[0m\u001b[0mnext_action\u001b[0m\u001b[1;33m)\u001b[0m\u001b[1;33m]\u001b[0m\u001b[1;33m\u001b[0m\u001b[0m\n\u001b[0m\u001b[0;32m     86\u001b[0m \u001b[1;33m\u001b[0m\u001b[0m\n\u001b[0;32m     87\u001b[0m \u001b[1;33m\u001b[0m\u001b[0m\n",
      "\u001b[1;31mIndexError\u001b[0m: index 22 is out of bounds for axis 0 with size 3"
     ]
    }
   ],
   "source": [
    "'''\n",
    "Two things are happening under the hood to improve the stability of DQN:\n",
    "- Experience Replay: Sampling transition tuples (s, a, r, s') with equal probability during SGD. Experiences can be reused\n",
    "- Target Network: Freeze the Online Network to improve bootstrapping of TD-Target\n",
    "'''\n",
    "\n",
    "agent.train(\n",
    "    policy_measure = 'optimal', # either 'optimal', 'highest' or 'average'\n",
    "    CONVERGENCE_THRESHOLD = 500, \n",
    "    EPISODES_TO_EXPLORE = 2,\n",
    "    train_episodes = 5\n",
    ")"
   ]
  },
  {
   "cell_type": "code",
   "execution_count": null,
   "metadata": {
    "scrolled": false
   },
   "outputs": [],
   "source": [
    "agent.trainSummary()"
   ]
  },
  {
   "cell_type": "code",
   "execution_count": null,
   "metadata": {
    "scrolled": true
   },
   "outputs": [],
   "source": [
    "'''Pick a model from a particular episode and test the model on unseen data'''\n",
    "BEST_EPISODE = 26\n",
    "agent.episodeReview(BEST_EPISODE)"
   ]
  },
  {
   "cell_type": "code",
   "execution_count": null,
   "metadata": {},
   "outputs": [],
   "source": [
    "'''Testing!'''\n",
    "\n",
    "agent.test(BEST_EPISODE)"
   ]
  },
  {
   "cell_type": "markdown",
   "metadata": {},
   "source": [
    "# Live Trading\n",
    "\n",
    "When you feel ready, pick this model and go live!"
   ]
  },
  {
   "cell_type": "code",
   "execution_count": null,
   "metadata": {},
   "outputs": [],
   "source": [
    "'''\n",
    "Under the hood:\n",
    "2 threads running, one to 'listen' to new candle events, and another to process the new candle and execute trade\n",
    "Note: Normalize new data set with train_set mean and std\n",
    "\n",
    "\n",
    "agent.liveTrading(\n",
    "    MODEL_EPS = 45 #Select the Model # (Training episode)\n",
    ")\n",
    "'''"
   ]
  },
  {
   "cell_type": "code",
   "execution_count": null,
   "metadata": {},
   "outputs": [],
   "source": [
    "'''\n",
    "from tradingtensors.Environments.CustomEnvs import OandaEnv\n",
    "\n",
    "env = OandaEnv(\n",
    "    INSTRUMENT = \"EUR_USD\", \n",
    "    TIMEFRAME = \"H1\", \n",
    "    lookback_period= 3, #Using the previous 3 Hourly Return, Default= '(Open-LastOpen)/LastOpen'\n",
    "    trade_duration=3 #Hold every trades for 3 hours\n",
    ")\n",
    "\n",
    "from tradingtensors.Agents.Q_learning import DQNAgent\n",
    "\n",
    "PATH = r'C:\\Users\\Henry\\Documents\\Python Stuff\\Upwork Trial\\Forex Ai\\github\\MODELS'\n",
    "\n",
    "agent = DQNAgent(\n",
    "    env= env,\n",
    "    PARENT_PATH = PATH, #Path to save your models\n",
    "    hidden_layers=[128, 64, 32]\n",
    ")\n",
    "agent.train(\n",
    "    policy_measure = 'optimal', # either 'optimal', 'highest' or 'average'\n",
    "    CONVERGENCE_THRESHOLD = 500, \n",
    "    EPISODES_TO_EXPLORE = 30,\n",
    "    train_episodes = 200\n",
    ")\n",
    "\n",
    "agent.trainSummary()\n",
    "'''"
   ]
  },
  {
   "cell_type": "code",
   "execution_count": null,
   "metadata": {},
   "outputs": [],
   "source": []
  }
 ],
 "metadata": {
  "kernelspec": {
   "display_name": "Python 3",
   "language": "python",
   "name": "python3"
  },
  "language_info": {
   "codemirror_mode": {
    "name": "ipython",
    "version": 3
   },
   "file_extension": ".py",
   "mimetype": "text/x-python",
   "name": "python",
   "nbconvert_exporter": "python",
   "pygments_lexer": "ipython3",
   "version": "3.5.3"
  }
 },
 "nbformat": 4,
 "nbformat_minor": 2
}
