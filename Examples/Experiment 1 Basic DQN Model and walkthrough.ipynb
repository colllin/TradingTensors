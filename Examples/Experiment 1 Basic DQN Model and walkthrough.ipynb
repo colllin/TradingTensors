{
 "cells": [
  {
   "cell_type": "code",
   "execution_count": 1,
   "metadata": {},
   "outputs": [
    {
     "name": "stderr",
     "output_type": "stream",
     "text": [
      "c:\\users\\sakiyama\\appdata\\local\\programs\\python\\python35\\lib\\site-packages\\matplotlib\\cbook.py:136: MatplotlibDeprecationWarning: The finance module has been deprecated in mpl 2.0 and will be removed in mpl 2.2. Please use the module mpl_finance instead.\n",
      "  warnings.warn(message, mplDeprecation, stacklevel=1)\n"
     ]
    }
   ],
   "source": [
    "'''\n",
    "First, define the environment. In this example, we are only using price data to initialize our state space\n",
    "'''\n",
    "from tradingtensors.Environments.CustomEnvs import OandaEnv\n",
    "\n",
    "env = OandaEnv(\n",
    "    INSTRUMENT = \"EUR_USD\", \n",
    "    granularity = \"H1\", \n",
    "    lookback_period= 3, #Using the previous 3 Hourly Return, Default= '(Open-LastOpen)/LastOpen'\n",
    "    trade_duration=3 #Hold every trades for 3 hours\n",
    ")"
   ]
  },
  {
   "cell_type": "code",
   "execution_count": 2,
   "metadata": {},
   "outputs": [
    {
     "data": {
      "text/plain": [
       "'And the agent is ready for training'"
      ]
     },
     "execution_count": 2,
     "metadata": {},
     "output_type": "execute_result"
    }
   ],
   "source": [
    "'''\n",
    "The Learning Agent -> DQN\n",
    "\n",
    "Adjust hyperparameters and other model settings:\n",
    "-> ./settings/DQNsettings\n",
    "'''\n",
    "\n",
    "from tradingtensors.Agents.Q_learning import DQNAgent\n",
    "\n",
    "PATH = r'C:\\pleiades\\xampp\\htdocs\\TradingTensors\\data'\n",
    "\n",
    "agent = DQNAgent(\n",
    "    env= env,\n",
    "    directory = PATH, #Path to save your models\n",
    ")\n",
    "\n",
    "'''And the agent is ready for training'''"
   ]
  },
  {
   "cell_type": "markdown",
   "metadata": {},
   "source": [
    "# Train/Test Mode"
   ]
  },
  {
   "cell_type": "markdown",
   "metadata": {},
   "source": [
    "<img src='./images/AgentEnv.JPG'/>"
   ]
  },
  {
   "cell_type": "code",
   "execution_count": 3,
   "metadata": {
    "scrolled": false
   },
   "outputs": [
    {
     "ename": "AttributeError",
     "evalue": "'Portfolio' object has no attribute '_isHoldingTrade'",
     "output_type": "error",
     "traceback": [
      "\u001b[1;31m---------------------------------------------------------------------------\u001b[0m",
      "\u001b[1;31mAttributeError\u001b[0m                            Traceback (most recent call last)",
      "\u001b[1;32m<ipython-input-3-8dbe96afac81>\u001b[0m in \u001b[0;36m<module>\u001b[1;34m()\u001b[0m\n\u001b[0;32m      9\u001b[0m     \u001b[0mCONVERGENCE_THRESHOLD\u001b[0m \u001b[1;33m=\u001b[0m \u001b[1;36m500\u001b[0m\u001b[1;33m,\u001b[0m\u001b[1;33m\u001b[0m\u001b[0m\n\u001b[0;32m     10\u001b[0m     \u001b[0mEPISODES_TO_EXPLORE\u001b[0m \u001b[1;33m=\u001b[0m \u001b[1;36m3\u001b[0m\u001b[1;33m,\u001b[0m\u001b[1;33m\u001b[0m\u001b[0m\n\u001b[1;32m---> 11\u001b[1;33m     \u001b[0mtrain_episodes\u001b[0m \u001b[1;33m=\u001b[0m \u001b[1;36m5\u001b[0m\u001b[1;33m\u001b[0m\u001b[0m\n\u001b[0m\u001b[0;32m     12\u001b[0m )\n",
      "\u001b[1;32mc:\\pleiades\\xampp\\htdocs\\tradingtensors\\tradingtensors\\Agents\\Q_learning.py\u001b[0m in \u001b[0;36mtrain\u001b[1;34m(self, policy_measure, batch_size, CONVERGENCE_THRESHOLD, EPISODES_TO_EXPLORE, train_episodes)\u001b[0m\n\u001b[0;32m    156\u001b[0m \u001b[1;33m\u001b[0m\u001b[0m\n\u001b[0;32m    157\u001b[0m                     \u001b[1;31m#Advance one step with the action in our environment\u001b[0m\u001b[1;33m\u001b[0m\u001b[1;33m\u001b[0m\u001b[0m\n\u001b[1;32m--> 158\u001b[1;33m                     \u001b[0mnew_observation\u001b[0m\u001b[1;33m,\u001b[0m \u001b[0m_action\u001b[0m\u001b[1;33m,\u001b[0m \u001b[0mreward\u001b[0m\u001b[1;33m,\u001b[0m \u001b[0mdone\u001b[0m \u001b[1;33m=\u001b[0m \u001b[0mself\u001b[0m\u001b[1;33m.\u001b[0m\u001b[0menv\u001b[0m\u001b[1;33m.\u001b[0m\u001b[0mstep\u001b[0m\u001b[1;33m(\u001b[0m\u001b[0maction\u001b[0m\u001b[1;33m)\u001b[0m\u001b[1;33m\u001b[0m\u001b[0m\n\u001b[0m\u001b[0;32m    159\u001b[0m \u001b[1;33m\u001b[0m\u001b[0m\n\u001b[0;32m    160\u001b[0m                     \u001b[1;31m#Add the Experience to the memory\u001b[0m\u001b[1;33m\u001b[0m\u001b[1;33m\u001b[0m\u001b[0m\n",
      "\u001b[1;32mc:\\pleiades\\xampp\\htdocs\\tradingtensors\\tradingtensors\\Environments\\CustomEnvs.py\u001b[0m in \u001b[0;36mstep\u001b[1;34m(self, action)\u001b[0m\n\u001b[0;32m     55\u001b[0m         ACTION, reward = self.portfolio.newCandleHandler(\n\u001b[0;32m     56\u001b[0m             \u001b[0mACTION\u001b[0m\u001b[1;33m=\u001b[0m\u001b[0maction\u001b[0m\u001b[1;33m,\u001b[0m \u001b[0mTIME\u001b[0m\u001b[1;33m=\u001b[0m\u001b[0mportfolio_feed\u001b[0m\u001b[1;33m[\u001b[0m\u001b[1;36m0\u001b[0m\u001b[1;33m]\u001b[0m\u001b[1;33m,\u001b[0m\u001b[1;33m\u001b[0m\u001b[0m\n\u001b[1;32m---> 57\u001b[1;33m             OPEN=portfolio_feed[1], REWARD=portfolio_feed[2])\n\u001b[0m\u001b[0;32m     58\u001b[0m \u001b[1;33m\u001b[0m\u001b[0m\n\u001b[0;32m     59\u001b[0m         \u001b[1;32mreturn\u001b[0m \u001b[0mnew_obs\u001b[0m\u001b[1;33m,\u001b[0m \u001b[0mACTION\u001b[0m\u001b[1;33m,\u001b[0m \u001b[0mreward\u001b[0m\u001b[1;33m,\u001b[0m \u001b[0mdone\u001b[0m\u001b[1;33m\u001b[0m\u001b[0m\n",
      "\u001b[1;32mc:\\pleiades\\xampp\\htdocs\\tradingtensors\\tradingtensors\\Environments\\CustomEnvs.py\u001b[0m in \u001b[0;36mnewCandleHandler\u001b[1;34m(self, ACTION, **kwargs)\u001b[0m\n\u001b[0;32m    274\u001b[0m         '''\n\u001b[0;32m    275\u001b[0m \u001b[1;33m\u001b[0m\u001b[0m\n\u001b[1;32m--> 276\u001b[1;33m         \u001b[1;32mif\u001b[0m \u001b[0mself\u001b[0m\u001b[1;33m.\u001b[0m\u001b[0misHoldingTrade\u001b[0m\u001b[1;33m(\u001b[0m\u001b[1;33m)\u001b[0m\u001b[1;33m:\u001b[0m\u001b[1;33m\u001b[0m\u001b[0m\n\u001b[0m\u001b[0;32m    277\u001b[0m             \u001b[1;31m#Increase trade duration\u001b[0m\u001b[1;33m\u001b[0m\u001b[1;33m\u001b[0m\u001b[0m\n\u001b[0;32m    278\u001b[0m             \u001b[0mself\u001b[0m\u001b[1;33m.\u001b[0m\u001b[0mcurr_trade\u001b[0m\u001b[1;33m[\u001b[0m\u001b[1;34m'Trade Duration'\u001b[0m\u001b[1;33m]\u001b[0m \u001b[1;33m+=\u001b[0m \u001b[1;36m1\u001b[0m\u001b[1;33m\u001b[0m\u001b[0m\n",
      "\u001b[1;32mc:\\pleiades\\xampp\\htdocs\\tradingtensors\\tradingtensors\\Environments\\CustomEnvs.py\u001b[0m in \u001b[0;36misHoldingTrade\u001b[1;34m(self)\u001b[0m\n\u001b[0;32m    406\u001b[0m             \u001b[1;32melse\u001b[0m\u001b[1;33m:\u001b[0m\u001b[1;33m\u001b[0m\u001b[0m\n\u001b[0;32m    407\u001b[0m                 \u001b[0mself\u001b[0m\u001b[1;33m.\u001b[0m\u001b[0m_isHoldingTrade\u001b[0m \u001b[1;33m=\u001b[0m \u001b[0mself\u001b[0m\u001b[1;33m.\u001b[0m\u001b[0mapi_Handle\u001b[0m\u001b[1;33m.\u001b[0m\u001b[0misTradeOpen\u001b[0m\u001b[1;33m(\u001b[0m\u001b[0mTRADE_ID\u001b[0m\u001b[1;33m)\u001b[0m\u001b[1;33m\u001b[0m\u001b[0m\n\u001b[1;32m--> 408\u001b[1;33m         \u001b[1;32mreturn\u001b[0m \u001b[0mself\u001b[0m\u001b[1;33m.\u001b[0m\u001b[0m_isHoldingTrade\u001b[0m\u001b[1;33m\u001b[0m\u001b[0m\n\u001b[0m\u001b[0;32m    409\u001b[0m     \u001b[1;32mdef\u001b[0m \u001b[0m_set_default_trade\u001b[0m\u001b[1;33m(\u001b[0m\u001b[0mself\u001b[0m\u001b[1;33m)\u001b[0m\u001b[1;33m:\u001b[0m\u001b[1;33m\u001b[0m\u001b[0m\n\u001b[0;32m    410\u001b[0m         self.curr_trade = {\n",
      "\u001b[1;31mAttributeError\u001b[0m: 'Portfolio' object has no attribute '_isHoldingTrade'"
     ]
    }
   ],
   "source": [
    "'''\n",
    "Two things are happening under the hood to improve the stability of DQN:\n",
    "- Experience Replay: Sampling transition tuples (s, a, r, s') with equal probability during SGD. Experiences can be reused\n",
    "- Target Network: Freeze the Online Network to improve bootstrapping of TD-Target\n",
    "'''\n",
    "\n",
    "agent.train(\n",
    "    policy_measure = 'optimal', # either 'optimal', 'highest' or 'average'\n",
    "    CONVERGENCE_THRESHOLD = 500, \n",
    "    EPISODES_TO_EXPLORE = 3,\n",
    "    train_episodes = 5\n",
    ")"
   ]
  },
  {
   "cell_type": "code",
   "execution_count": null,
   "metadata": {
    "scrolled": false
   },
   "outputs": [],
   "source": [
    "agent.trainSummary()"
   ]
  },
  {
   "cell_type": "code",
   "execution_count": null,
   "metadata": {
    "scrolled": true
   },
   "outputs": [],
   "source": [
    "'''Pick a model from a particular episode and test the model on unseen data'''\n",
    "BEST_EPISODE = 90\n",
    "agent.episodeReview(BEST_EPISODE)"
   ]
  },
  {
   "cell_type": "code",
   "execution_count": null,
   "metadata": {},
   "outputs": [],
   "source": [
    "'''Testing!'''\n",
    "\n",
    "agent.test(BEST_EPISODE)"
   ]
  },
  {
   "cell_type": "markdown",
   "metadata": {},
   "source": [
    "# Live Trading\n",
    "\n",
    "When you feel ready, pick this model and go live!"
   ]
  },
  {
   "cell_type": "code",
   "execution_count": null,
   "metadata": {},
   "outputs": [],
   "source": [
    "'''\n",
    "Under the hood:\n",
    "2 threads running, one to 'listen' to new candle events, and another to process the new candle and execute trade\n",
    "Note: Normalize new data set with train_set mean and std\n",
    "\n",
    "\n",
    "agent.liveTrading(\n",
    "    MODEL_EPS = 45 #Select the Model # (Training episode)\n",
    ")\n",
    "'''"
   ]
  },
  {
   "cell_type": "code",
   "execution_count": null,
   "metadata": {},
   "outputs": [],
   "source": [
    "'''\n",
    "from tradingtensors.Environments.CustomEnvs import OandaEnv\n",
    "\n",
    "env = OandaEnv(\n",
    "    INSTRUMENT = \"EUR_USD\", \n",
    "    TIMEFRAME = \"H1\", \n",
    "    lookback_period= 3, #Using the previous 3 Hourly Return, Default= '(Open-LastOpen)/LastOpen'\n",
    "    trade_duration=3 #Hold every trades for 3 hours\n",
    ")\n",
    "\n",
    "from tradingtensors.Agents.Q_learning import DQNAgent\n",
    "\n",
    "PATH = r'C:\\Users\\Henry\\Documents\\Python Stuff\\Upwork Trial\\Forex Ai\\github\\MODELS'\n",
    "\n",
    "agent = DQNAgent(\n",
    "    env= env,\n",
    "    PARENT_PATH = PATH, #Path to save your models\n",
    "    hidden_layers=[128, 64, 32]\n",
    ")\n",
    "agent.train(\n",
    "    policy_measure = 'optimal', # either 'optimal', 'highest' or 'average'\n",
    "    CONVERGENCE_THRESHOLD = 500, \n",
    "    EPISODES_TO_EXPLORE = 30,\n",
    "    train_episodes = 200\n",
    ")\n",
    "\n",
    "agent.trainSummary()\n",
    "'''"
   ]
  }
 ],
 "metadata": {
  "kernelspec": {
   "display_name": "Python 3",
   "language": "python",
   "name": "python3"
  },
  "language_info": {
   "codemirror_mode": {
    "name": "ipython",
    "version": 3
   },
   "file_extension": ".py",
   "mimetype": "text/x-python",
   "name": "python",
   "nbconvert_exporter": "python",
   "pygments_lexer": "ipython3",
   "version": "3.5.3"
  }
 },
 "nbformat": 4,
 "nbformat_minor": 2
}
