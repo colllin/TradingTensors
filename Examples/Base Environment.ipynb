{
 "cells": [
  {
   "cell_type": "code",
   "execution_count": 1,
   "metadata": {},
   "outputs": [
    {
     "name": "stderr",
     "output_type": "stream",
     "text": [
      "C:\\Users\\Henry\\Anaconda2\\envs\\tensorflow\\lib\\site-packages\\matplotlib\\cbook.py:136: MatplotlibDeprecationWarning: The finance module has been deprecated in mpl 2.0 and will be removed in mpl 2.2. Please use the module mpl_finance instead.\n",
      "  warnings.warn(message, mplDeprecation, stacklevel=1)\n"
     ]
    }
   ],
   "source": [
    "from tradingtensors.Environments.CustomEnvs import OandaEnv"
   ]
  },
  {
   "cell_type": "markdown",
   "metadata": {},
   "source": [
    "# Base Model Representation"
   ]
  },
  {
   "cell_type": "markdown",
   "metadata": {},
   "source": [
    "Train/Test Model\n",
    "<img src=\"./images/baseModel.JPG\">"
   ]
  },
  {
   "cell_type": "markdown",
   "metadata": {},
   "source": [
    "Environment class is made up of:\n",
    "- Simulator class: Retrieving history from Oanda and processing states\n",
    "- Portfolio class: Calculate reward given Action. Default class is FixedPeriodPortfolio where every trades only last for a fixed period\n"
   ]
  },
  {
   "cell_type": "code",
   "execution_count": 2,
   "metadata": {},
   "outputs": [],
   "source": [
    "'''\n",
    "Things to note:\n",
    "- Define TOKEN and ID in serverconfig.py\n",
    "- INSTRUMENT must be separated by underscore '_'\n",
    "'''\n",
    "\n",
    "env = OandaEnv(\n",
    "    INSTRUMENT = \"EUR_USD\", \n",
    "    TIMEFRAME = \"H1\", \n",
    "    lookback_period= 3, \n",
    "    trade_duration=3, #Trade duration\n",
    ")"
   ]
  }
 ],
 "metadata": {
  "kernelspec": {
   "display_name": "Python 3",
   "language": "python",
   "name": "python3"
  },
  "language_info": {
   "codemirror_mode": {
    "name": "ipython",
    "version": 3
   },
   "file_extension": ".py",
   "mimetype": "text/x-python",
   "name": "python",
   "nbconvert_exporter": "python",
   "pygments_lexer": "ipython3",
   "version": "3.5.3"
  }
 },
 "nbformat": 4,
 "nbformat_minor": 2
}
